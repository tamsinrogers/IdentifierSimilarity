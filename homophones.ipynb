{
 "cells": [
  {
   "cell_type": "code",
   "execution_count": 1,
   "metadata": {},
   "outputs": [],
   "source": [
    "import pandas as pd\n",
    "import numpy as np\n",
    "from tqdm import tqdm\n",
    "from Levenshtein import ratio\n",
    "import eng_to_ipa\n",
    "import json"
   ]
  },
  {
   "attachments": {},
   "cell_type": "markdown",
   "metadata": {},
   "source": [
    "Load/create dictionary to translate identifiers from English to IPA"
   ]
  },
  {
   "cell_type": "code",
   "execution_count": 2,
   "metadata": {},
   "outputs": [
    {
     "name": "stdout",
     "output_type": "stream",
     "text": [
      "Loaded ipa_translation_dict.json\n"
     ]
    }
   ],
   "source": [
    "# check for existing translation dictionary\n",
    "try:\n",
    "    dict_file = open('ipa_translation_dict.json', 'r')\n",
    "    dict = dict_file.read()\n",
    "    dict_file.close()\n",
    "\n",
    "    translate = json.loads(dict)\n",
    "\n",
    "    print('Loaded ipa_translation_dict.json')\n",
    "\n",
    "# if pre-translated dictionary is missing\n",
    "except FileNotFoundError:\n",
    "\n",
    "    id_freq = pd.read_csv('identifier_frequency.csv')\n",
    "    top_ids = id_freq['identifier'].astype(str)\n",
    "\n",
    "    translate = {}\n",
    "\n",
    "    for id in tqdm(top_ids):\n",
    "        \n",
    "        id_ipa = eng_to_ipa.convert(id)\n",
    "\n",
    "        # if 'id' is not translatable, convert returns 'id*'\n",
    "        # filter these out\n",
    "        if id not in id_ipa:\n",
    "            translate[id] = id_ipa\n",
    "    \n",
    "    percent = str(np.round(100*len(translate)/len(top_ids)))\n",
    "    print(str(len(translate)) + ' identifiers are translatable (' + percent + '%)')\n",
    "\n",
    "    f = open('ipa_translation_dict.json', 'w')\n",
    "    f.write(json.dumps(translate))\n",
    "    f.close()"
   ]
  },
  {
   "attachments": {},
   "cell_type": "markdown",
   "metadata": {},
   "source": [
    "Find similarity of every pair of identifiers"
   ]
  },
  {
   "cell_type": "code",
   "execution_count": 3,
   "metadata": {},
   "outputs": [
    {
     "name": "stderr",
     "output_type": "stream",
     "text": [
      "100%|██████████| 5311/5311 [00:07<00:00, 716.24it/s] \n"
     ]
    }
   ],
   "source": [
    "words = list(translate)\n",
    "size = len(words)\n",
    "\n",
    "result = np.zeros((size, size))\n",
    "\n",
    "for i in tqdm(range(size)):\n",
    "    for j in range(size):\n",
    "        \n",
    "        if i < j: # only compare each pair once\n",
    "\n",
    "            result[i][j] = ratio(translate[words[i]], translate[words[j]])\n",
    "\n",
    "# get indices from largest to smallest similarity\n",
    "sorted = np.flip(np.argsort(result.flatten()))"
   ]
  },
  {
   "attachments": {},
   "cell_type": "markdown",
   "metadata": {},
   "source": [
    "Save most similar pairs"
   ]
  },
  {
   "cell_type": "code",
   "execution_count": 4,
   "metadata": {},
   "outputs": [],
   "source": [
    "f = open('phonological_similarity.csv', 'w')\n",
    "\n",
    "for n in range(10000):\n",
    "    i, j = np.unravel_index(sorted[n], (size, size))\n",
    "    if words[i] not in words[j] and words[j] not in words[i]:\n",
    "        f.write(words[i] + ',' + words[j] + ',' + str(result[i][j]) + '\\n')\n",
    "\n",
    "f.close()"
   ]
  }
 ],
 "metadata": {
  "kernelspec": {
   "display_name": "Python 3",
   "language": "python",
   "name": "python3"
  },
  "language_info": {
   "codemirror_mode": {
    "name": "ipython",
    "version": 3
   },
   "file_extension": ".py",
   "mimetype": "text/x-python",
   "name": "python",
   "nbconvert_exporter": "python",
   "pygments_lexer": "ipython3",
   "version": "3.10.10"
  },
  "orig_nbformat": 4
 },
 "nbformat": 4,
 "nbformat_minor": 2
}
