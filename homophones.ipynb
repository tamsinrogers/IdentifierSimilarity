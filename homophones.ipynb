{
 "cells": [
  {
   "cell_type": "code",
   "execution_count": 6,
   "metadata": {},
   "outputs": [],
   "source": [
    "import pandas as pd\n",
    "import numpy as np\n",
    "from tqdm import tqdm\n",
    "from Levenshtein import ratio\n",
    "import eng_to_ipa\n",
    "import json"
   ]
  },
  {
   "cell_type": "code",
   "execution_count": 4,
   "metadata": {},
   "outputs": [
    {
     "name": "stderr",
     "output_type": "stream",
     "text": [
      "100%|██████████| 81297/81297 [06:52<00:00, 197.28it/s]\n"
     ]
    }
   ],
   "source": [
    "id_freq = pd.read_csv('identifier_frequency.csv')\n",
    "top_identifiers = id_freq['identifier'].astype(str)\n",
    "\n",
    "translation_dict = {}\n",
    "\n",
    "for id in tqdm(top_identifiers):\n",
    "    id_ipa = eng_to_ipa.convert(id)\n",
    "    translation_dict[id] = id_ipa"
   ]
  },
  {
   "cell_type": "code",
   "execution_count": 13,
   "metadata": {},
   "outputs": [
    {
     "name": "stdout",
     "output_type": "stream",
     "text": [
      "0.06532836390026692\n",
      "5311\n"
     ]
    }
   ],
   "source": [
    "translate = {}\n",
    "translatable = 0\n",
    "\n",
    "for k, v in translation_dict.items():\n",
    "    if k in v:\n",
    "        pass\n",
    "    else:\n",
    "        translate[k] = v\n",
    "        translatable += 1\n",
    "\n",
    "print(translatable/81297)\n",
    "\n",
    "f = open('ipa_translation_dict.json', 'w')\n",
    "f.write(json.dumps(translate))\n",
    "f.close()\n",
    "\n",
    "print(len(translate))"
   ]
  },
  {
   "cell_type": "code",
   "execution_count": 23,
   "metadata": {},
   "outputs": [
    {
     "name": "stderr",
     "output_type": "stream",
     "text": [
      "100%|██████████| 5311/5311 [00:07<00:00, 679.02it/s] \n"
     ]
    }
   ],
   "source": [
    "words = list(translate)\n",
    "\n",
    "\n",
    "size = len(words)\n",
    "\n",
    "result = np.zeros((size, size))\n",
    "\n",
    "for i in tqdm(range(size)):\n",
    "    for j in range(size):\n",
    "        if i < j:\n",
    "            result[i][j] = ratio(translate[words[i]], translate[words[j]])\n",
    "\n",
    "sorted = np.flip(np.argsort(result.flatten()))"
   ]
  },
  {
   "cell_type": "code",
   "execution_count": 26,
   "metadata": {},
   "outputs": [],
   "source": [
    "f = open('most_similar_identifiers.csv', 'w')\n",
    "\n",
    "for n in range(10000):\n",
    "    i, j = np.unravel_index(sorted[n], (size, size))\n",
    "    if words[i] not in words[j] and words[j] not in words[i]:\n",
    "        f.write(words[i] + ',' + words[j] + ',' + str(result[i][j]) + '\\n')\n",
    "\n",
    "f.close()"
   ]
  }
 ],
 "metadata": {
  "kernelspec": {
   "display_name": "Python 3",
   "language": "python",
   "name": "python3"
  },
  "language_info": {
   "codemirror_mode": {
    "name": "ipython",
    "version": 3
   },
   "file_extension": ".py",
   "mimetype": "text/x-python",
   "name": "python",
   "nbconvert_exporter": "python",
   "pygments_lexer": "ipython3",
   "version": "3.10.10"
  },
  "orig_nbformat": 4
 },
 "nbformat": 4,
 "nbformat_minor": 2
}
