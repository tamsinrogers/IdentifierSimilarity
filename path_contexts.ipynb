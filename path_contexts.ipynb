{
 "cells": [
  {
   "attachments": {},
   "cell_type": "markdown",
   "metadata": {},
   "source": [
    "# Python Code2Vec\n",
    "Trying to replicate Code2Vec model using Python AST path contexts. From the [Code2Vec GitHub](https://github.com/tech-srl/code2vec#extending-to-other-languages):\n",
    "\n",
    "> In order to extend code2vec to work with other languages, a new extractor (similar to the JavaExtractor) should be implemented, and be called by preprocess.sh. Basically, an extractor should be able to output for each directory containing source files:\n",
    "> - A single text file, where each row is an example.\n",
    ">  - Each example is a space-delimited list of fields, where:\n",
    ">  1. The first \"word\" is the target label, internally delimited by the \"|\" character.\n",
    "> 2. Each of the following words are contexts, where each context has three components separated by commas (\",\"). Each of these components cannot include spaces nor commas. We refer to these three components as a token, a path, and another token, but in general other types of ternary contexts can be considered.\n",
    "\n",
    "From the [Code2Seq Github](https://github.com/tech-srl/code2seq#extending-to-other-languages):\n",
    "\n",
    ">Each path is a path between two tokens, split to path nodes (or other kinds of building blocks) using the \"|\" character.\n",
    "\n",
    ">Example for a context:\n",
    ">`my|key,StringExression|MethodCall|Name,get|value`\n",
    "\n",
    ">Here `my|key` and `get|value` are tokens, and `StringExression|MethodCall|Name` is the syntactic path that connects them.\n",
    "\n",
    "The [Python AST documentation](https://docs.python.org/3/library/ast.html) is dense but helpful"
   ]
  },
  {
   "cell_type": "code",
   "execution_count": 1,
   "metadata": {},
   "outputs": [],
   "source": [
    "import ast"
   ]
  },
  {
   "cell_type": "code",
   "execution_count": 39,
   "metadata": {},
   "outputs": [
    {
     "name": "stdout",
     "output_type": "stream",
     "text": [
      "__init__\n",
      "get_name\n",
      "set_name\n",
      "a_function\n"
     ]
    }
   ],
   "source": [
    "# open and read testing file\n",
    "f = open('ast_parse_test.py', 'r')\n",
    "file = f.read()\n",
    "f.close()\n",
    "\n",
    "# parse abstract syntax tree\n",
    "module = ast.parse(file)\n",
    "\n",
    "# list to hold nodes\n",
    "function_nodes = []\n",
    "\n",
    "# gather functions and class methods\n",
    "for node in module.body:\n",
    "\n",
    "    if isinstance(node, ast.FunctionDef):\n",
    "        function_nodes.append(node)\n",
    "    \n",
    "    elif isinstance(node, ast.ClassDef):\n",
    "        \n",
    "        # loop over class body\n",
    "        for class_child in node.body:\n",
    "            if isinstance(class_child, ast.FunctionDef):\n",
    "                function_nodes.append(class_child)\n",
    "\n",
    "for node in function_nodes:\n",
    "    print(node.name)"
   ]
  }
 ],
 "metadata": {
  "kernelspec": {
   "display_name": "Python 3",
   "language": "python",
   "name": "python3"
  },
  "language_info": {
   "codemirror_mode": {
    "name": "ipython",
    "version": 3
   },
   "file_extension": ".py",
   "mimetype": "text/x-python",
   "name": "python",
   "nbconvert_exporter": "python",
   "pygments_lexer": "ipython3",
   "version": "3.10.10"
  },
  "orig_nbformat": 4
 },
 "nbformat": 4,
 "nbformat_minor": 2
}
